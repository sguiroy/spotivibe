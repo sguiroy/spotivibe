{
 "cells": [
  {
   "attachments": {},
   "cell_type": "markdown",
   "metadata": {},
   "source": [
    "## Etude Spotipy"
   ]
  },
  {
   "attachments": {},
   "cell_type": "markdown",
   "metadata": {},
   "source": [
    "Notes OneDrive :https://onedrive.live.com/redir?resid=128A95E5F57BE808%2138513&authkey=%21AL0yzNF1-9g1GgI&page=Edit&wd=target%28Spotivibe.one%7C2d06ec8b-74b9-4c45-9bfd-a681fcdd4e95%2FOu%20va%20t%27on%20%7Ce28accc5-a3aa-de44-af29-222f68e96a26%2F%29&wdorigin=NavigationUrl\n",
    "\n",
    "Doc API Spotify : https://developer.spotify.com/ \n",
    "\n",
    "Doc Soptipy :https://spotipy.readthedocs.io/en/2.22.1/#"
   ]
  },
  {
   "cell_type": "code",
   "execution_count": 1,
   "metadata": {},
   "outputs": [],
   "source": [
    "import spotipy\n",
    "#from spotipy.oauth2 import SpotifyClientCredentials"
   ]
  },
  {
   "cell_type": "code",
   "execution_count": 2,
   "metadata": {},
   "outputs": [],
   "source": [
    "#Déclaration token d'auth (clés dans fichier .py externe)\n",
    "import auth_token \n",
    "\n",
    "client_id = auth_token.client_id\n",
    "client_secret = auth_token.client_secret"
   ]
  },
  {
   "cell_type": "code",
   "execution_count": null,
   "metadata": {},
   "outputs": [],
   "source": [
    "## Initialisation de l'authentification sans autorisations\n",
    "#auth_manager = SpotifyClientCredentials(client_id=client_id, client_secret=client_secret)\n",
    "#sp = spotipy.Spotify(auth_manager=auth_manager)"
   ]
  },
  {
   "cell_type": "code",
   "execution_count": 3,
   "metadata": {},
   "outputs": [],
   "source": [
    "## Initialisation de l'authentification pour requêter sur user [autorisations fonction du scope https://developer.spotify.com/documentation/web-api/concepts/scopes]\n",
    "#tuto : https://www.grace-dev.com/python-apis/python-spotify-api/\n",
    "from spotipy.oauth2 import SpotifyOAuth\n",
    "\n",
    "scope = \"user-library-read, user-read-recently-played\"\n",
    "sp = spotipy.Spotify(auth_manager=SpotifyOAuth(client_id, client_secret, redirect_uri='http://127.0.0.1:9090', scope=scope))\n"
   ]
  },
  {
   "attachments": {},
   "cell_type": "markdown",
   "metadata": {},
   "source": [
    "## Requêtes User"
   ]
  },
  {
   "cell_type": "markdown",
   "metadata": {},
   "source": []
  },
  {
   "cell_type": "code",
   "execution_count": 4,
   "metadata": {},
   "outputs": [
    {
     "name": "stdout",
     "output_type": "stream",
     "text": [
      "0 Dexter Wansel  –  Life on Mars\n",
      "1 Dexter Wansel  –  Nights Over Egypt\n",
      "2 Iggy Pop  –  In The Deathcar - \"Arizona Dream\" Original Motion Picture Soundtrack\n",
      "3 Louie Zong  –  Moonlight Steppin'\n",
      "4 Lucien Kimono  –  Piano matinée (feat. Alsy) - Jimmy Whoo Remix\n",
      "5 G.Q.  –  I Love (The Skin You're In)\n",
      "6 Sven Wunder  –  Bamboo and Rocks\n",
      "7 Jesse Futerman  –  Luckey\n",
      "8 Mack Browne & The Brothers  –  Bumpy's Lament\n",
      "9 Alisha Chinai  –  Zindagi Meri Dance Dance\n",
      "10 Fart Fest  –  Fart Sounds - Over 1000 Farts (1 Hour)\n",
      "11 Vangelis  –  Blade Runner Blues\n",
      "12 Donny Benét  –  One Night in Paradise\n",
      "13 Kool & The Gang  –  Summer Madness\n",
      "14 Ed Motta  –  Tem Espaço Na Van\n",
      "15 East Coast Love Affair  –  Don't Be Afraid\n",
      "16 Galt MacDermot  –  Coffee Cold\n",
      "17 Nina Simone  –  Baltimore\n",
      "18 Kool & The Gang  –  Summer Madness\n",
      "19 Afrodesia  –  Deep Down In Zanzibar\n"
     ]
    }
   ],
   "source": [
    "results = sp.current_user_saved_tracks()\n",
    "for idx, item in enumerate(results['items']):\n",
    "    track = item['track']\n",
    "    print(idx, track['artists'][0]['name'], \" – \", track['name'])"
   ]
  },
  {
   "cell_type": "code",
   "execution_count": 25,
   "metadata": {},
   "outputs": [
    {
     "name": "stdout",
     "output_type": "stream",
     "text": [
      "0 Quincy Jones  –  Ai No Corrida\n",
      "1 Patrice Rushen  –  Forget Me Nots - Remastered\n",
      "2 Change  –  Hold Tight - Full Length Album Mix\n",
      "3 Geraldine Hunt  –  Can't Fake the Feeling - Radio Edit\n",
      "4 Imagination  –  Music and Lights\n",
      "5 George Benson  –  Give Me the Night - Edit\n",
      "6 Delegation  –  You and I\n",
      "7 France Joli  –  Gonna Get Over You\n",
      "8 Kid Creole And The Coconuts  –  I'm A Wonderful Thing, Baby\n",
      "9 CHIC  –  I Want Your Love - 2018 Remaster\n",
      "10 Sister Sledge  –  He's the Greatest Dancer - 1995 Remaster\n",
      "11 Chemise  –  She Can't Love You\n",
      "12 Curtis Mayfield  –  Move on Up - Single Edit\n",
      "13 Leon Haywood  –  Don't Push It Don't Force It\n",
      "14 Oliver Cheatham  –  Get Down Saturday Night\n",
      "15 Dexter Wansel  –  Life on Mars\n",
      "16 Central Cee  –  Doja\n",
      "17 Dave  –  Sprinter\n",
      "18 Vladimir Cauchemar  –  Snow is Falling\n",
      "19 Vladimir Cauchemar  –  Anthropology\n",
      "20 Alan Tew  –  Surveillance\n",
      "21 Gene Harris  –  I Remember Summer\n",
      "22 Lamont Dozier  –  Interlude\n",
      "23 Dexter Wansel  –  Rings of Saturn\n",
      "24 Dexter Wansel  –  Theme from the Planets\n",
      "25 Dexter Wansel  –  You Can Be What You Wanna Be\n",
      "26 Dexter Wansel  –  One Million Miles from the Ground\n",
      "27 Dexter Wansel  –  Life on Mars\n",
      "28 Dexter Wansel  –  Life on Mars\n",
      "29 Dexter Wansel  –  A Prophet Named K.G.\n",
      "30 Dexter Wansel  –  Nights Over Egypt\n",
      "31 Dexter Wansel  –  Prelude #1\n",
      "32 Dexter Wansel  –  Life on Mars\n",
      "33 A1 x J1  –  Don’t Lie (feat. Nemzzz)\n",
      "34 La Musique Des Armées  –  Le drapeau d'Austerlitz\n",
      "35 La Musique Des Armées  –  Refrain de l'Empire - Marche Militaire Napoléonienne\n",
      "36 Bobbi Humphrey  –  New York Times - Remastered 2002\n",
      "37 Donny Benét  –  Negroni Summer\n",
      "38 Camarão Orkestra  –  Nação África\n",
      "39 Altin Gün  –  Goca Dünya\n",
      "40 Mina  –  Conversazione\n",
      "41 Shelton Kilby  –  Poor Wayfaring Stranger\n",
      "42 Bill Withers  –  Use Me\n"
     ]
    }
   ],
   "source": [
    "mon_histo = sp.current_user_recently_played()\n",
    "for idx, item in enumerate(mon_histo['items']):\n",
    "    track = item['track']\n",
    "    print(idx, track['artists'][0]['name'], \" – \", track['name'])"
   ]
  },
  {
   "attachments": {},
   "cell_type": "markdown",
   "metadata": {},
   "source": [
    "## Requêtes hors User"
   ]
  },
  {
   "cell_type": "code",
   "execution_count": 6,
   "metadata": {},
   "outputs": [
    {
     "name": "stdout",
     "output_type": "stream",
     "text": [
      "Les 10 titres les plus écoutés de David Bowie:\n",
      "Under Pressure - Remastered 2011\n",
      "Starman - 2012 Remaster\n",
      "Heroes - 2017 Remaster\n",
      "Rebel Rebel - 2016 Remaster\n",
      "Space Oddity - 2015 Remaster\n",
      "Moonage Daydream - 2012 Remaster\n",
      "Life on Mars? - 2015 Remaster\n",
      "Let's Dance - 2018 Remaster\n",
      "Modern Love - 2018 Remaster\n",
      "Changes - 2015 Remaster\n"
     ]
    }
   ],
   "source": [
    "# Remplacez \"Nom de l'artiste\" par l'artiste dont vous souhaitez obtenir les titres les plus écoutés\n",
    "artiste = \"David Bowie\"\n",
    "\n",
    "# Recherche de l'artiste\n",
    "resultats = sp.search(q='artist:' + artiste, type='artist', limit=1)\n",
    "if len(resultats['artists']['items']) > 0:\n",
    "    artiste_id = resultats['artists']['items'][0]['id']\n",
    "\n",
    "    # Récupération des 10 titres les plus écoutés de l'artiste\n",
    "    top_tracks = sp.artist_top_tracks(artiste_id)\n",
    "\n",
    "    # Affichage des titres\n",
    "    print(\"Les 10 titres les plus écoutés de\", artiste + \":\")\n",
    "    for track in top_tracks['tracks']:\n",
    "        print(track['name'])\n",
    "else:\n",
    "    print(\"Artiste introuvable.\")\n"
   ]
  },
  {
   "cell_type": "code",
   "execution_count": 7,
   "metadata": {},
   "outputs": [
    {
     "name": "stdout",
     "output_type": "stream",
     "text": [
      "Liste des chansons populaires de 2023 :\n",
      "LA RUE\n",
      "Flowers\n",
      "Substitution\n",
      "Saiyan\n",
      "LLYLM\n",
      "Room 69\n",
      "NO LÈCHE\n",
      "25 G\n",
      "BESO\n",
      "Finale - Nouvelle École\n",
      "Tek Tek (feat. MHD)\n",
      "Superstar\n",
      "TQG\n",
      "Nouvelles\n",
      "Jolie Go\n",
      "La faille\n",
      "Coco\n",
      "Ragnar\n",
      "C'est carré le S\n",
      "Nocif\n",
      "THIS YEAR (Blessings) - French Remix\n",
      "DP sur le maillot\n",
      "Say Say Say (feat. Paul McCartney & Michael Jackson)\n",
      "Chagriné\n",
      "Entraînement\n",
      "Alcantara\n",
      "La faille\n",
      "Dernière ligne droite (feat. Laylow)\n",
      "Mazé\n",
      "Some Kind Of Kiss\n",
      "Miracle (with Ellie Goulding)\n",
      "Droit au but\n",
      "Courtois\n",
      "Freestyle LVL UP 2\n",
      "Daylight\n",
      "Freestyle LVL UP 3\n",
      "Range ton égo\n",
      "Demain\n",
      "COEUR DE ICE (feat. Damso)\n",
      "Tattoo\n",
      "Baby Don't Hurt Me\n",
      "Freestyle LVL UP 1\n",
      "MIRAGE (feat. Ozuna, GIMS & Sfera Ebbasta)\n",
      "Laboratoire\n",
      "Jolie (feat. Ninho)\n",
      "BABY SAID\n",
      "C'est carré le S\n",
      "Eyes Closed\n",
      "Capitaine\n",
      "Ciao\n"
     ]
    }
   ],
   "source": [
    "# Définir la plage de dates pour l'année 2023\n",
    "date_debut = \"2023-01-01\"\n",
    "date_fin = \"2023-12-31\"\n",
    "\n",
    "# Rechercher les chansons populaires de 2023\n",
    "resultats = sp.search(q=\"year:2023\", type=\"track\",limit=50)\n",
    "\n",
    "# Afficher les titres des chansons\n",
    "print(\"Liste des chansons populaires de 2023 :\")\n",
    "for track in resultats[\"tracks\"][\"items\"]:\n",
    "    print(track[\"name\"])"
   ]
  }
 ],
 "metadata": {
  "kernelspec": {
   "display_name": "ynov_elective",
   "language": "python",
   "name": "python3"
  },
  "language_info": {
   "codemirror_mode": {
    "name": "ipython",
    "version": 3
   },
   "file_extension": ".py",
   "mimetype": "text/x-python",
   "name": "python",
   "nbconvert_exporter": "python",
   "pygments_lexer": "ipython3",
   "version": "3.9.13"
  },
  "orig_nbformat": 4
 },
 "nbformat": 4,
 "nbformat_minor": 2
}
